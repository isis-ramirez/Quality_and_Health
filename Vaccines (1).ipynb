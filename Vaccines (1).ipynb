{
 "cells": [
  {
   "cell_type": "code",
   "execution_count": 17,
   "id": "e67a3c30",
   "metadata": {},
   "outputs": [],
   "source": [
    "import pandas as pd\n",
    "import numpy as np\n",
    "import matplotlib.pyplot as plt\n",
    "import seaborn as sb\n",
    "import scipy.stats as stat"
   ]
  },
  {
   "cell_type": "code",
   "execution_count": 9,
   "id": "a91c82be",
   "metadata": {},
   "outputs": [
    {
     "data": {
      "text/html": [
       "<div>\n",
       "<style scoped>\n",
       "    .dataframe tbody tr th:only-of-type {\n",
       "        vertical-align: middle;\n",
       "    }\n",
       "\n",
       "    .dataframe tbody tr th {\n",
       "        vertical-align: top;\n",
       "    }\n",
       "\n",
       "    .dataframe thead th {\n",
       "        text-align: right;\n",
       "    }\n",
       "</style>\n",
       "<table border=\"1\" class=\"dataframe\">\n",
       "  <thead>\n",
       "    <tr style=\"text-align: right;\">\n",
       "      <th></th>\n",
       "      <th>Geographic area</th>\n",
       "      <th>Indicator</th>\n",
       "      <th>Sex</th>\n",
       "      <th>2020</th>\n",
       "      <th>2019</th>\n",
       "      <th>2018</th>\n",
       "      <th>2015</th>\n",
       "    </tr>\n",
       "  </thead>\n",
       "  <tbody>\n",
       "    <tr>\n",
       "      <th>0</th>\n",
       "      <td>Afghanistan</td>\n",
       "      <td>Percentage of live births who received bacille...</td>\n",
       "      <td>Total</td>\n",
       "      <td>87</td>\n",
       "      <td>-</td>\n",
       "      <td>-</td>\n",
       "      <td>-</td>\n",
       "    </tr>\n",
       "    <tr>\n",
       "      <th>1</th>\n",
       "      <td>Afghanistan</td>\n",
       "      <td>Percentage of surviving infants who received t...</td>\n",
       "      <td>Total</td>\n",
       "      <td>78</td>\n",
       "      <td>-</td>\n",
       "      <td>-</td>\n",
       "      <td>-</td>\n",
       "    </tr>\n",
       "    <tr>\n",
       "      <th>2</th>\n",
       "      <td>Afghanistan</td>\n",
       "      <td>Percentage of surviving infants who received t...</td>\n",
       "      <td>Total</td>\n",
       "      <td>70</td>\n",
       "      <td>-</td>\n",
       "      <td>-</td>\n",
       "      <td>-</td>\n",
       "    </tr>\n",
       "    <tr>\n",
       "      <th>3</th>\n",
       "      <td>Afghanistan</td>\n",
       "      <td>Percentage of surviving infants who received t...</td>\n",
       "      <td>Total</td>\n",
       "      <td>70</td>\n",
       "      <td>-</td>\n",
       "      <td>-</td>\n",
       "      <td>-</td>\n",
       "    </tr>\n",
       "    <tr>\n",
       "      <th>4</th>\n",
       "      <td>Afghanistan</td>\n",
       "      <td>Percentage of live births who received hepatit...</td>\n",
       "      <td>Total</td>\n",
       "      <td>38</td>\n",
       "      <td>-</td>\n",
       "      <td>-</td>\n",
       "      <td>-</td>\n",
       "    </tr>\n",
       "  </tbody>\n",
       "</table>\n",
       "</div>"
      ],
      "text/plain": [
       "  Geographic area                                          Indicator    Sex  \\\n",
       "0     Afghanistan  Percentage of live births who received bacille...  Total   \n",
       "1     Afghanistan  Percentage of surviving infants who received t...  Total   \n",
       "2     Afghanistan  Percentage of surviving infants who received t...  Total   \n",
       "3     Afghanistan  Percentage of surviving infants who received t...  Total   \n",
       "4     Afghanistan  Percentage of live births who received hepatit...  Total   \n",
       "\n",
       "  2020 2019 2018 2015  \n",
       "0   87    -    -    -  \n",
       "1   78    -    -    -  \n",
       "2   70    -    -    -  \n",
       "3   70    -    -    -  \n",
       "4   38    -    -    -  "
      ]
     },
     "execution_count": 9,
     "metadata": {},
     "output_type": "execute_result"
    }
   ],
   "source": [
    "##locating and reading the csv file\n",
    "path=\"C:/Users/isis1/OneDrive/Documents/Asia_Vaccines.csv\"\n",
    "dataset=pd.read_csv(path)\n",
    "dataset.head()"
   ]
  },
  {
   "cell_type": "code",
   "execution_count": 10,
   "id": "f4a37b80",
   "metadata": {},
   "outputs": [
    {
     "name": "stdout",
     "output_type": "stream",
     "text": [
      "    Geographic area                                          Indicator    Sex  \\\n",
      "0       Afghanistan  Percentage of live births who received bacille...  Total   \n",
      "1       Afghanistan  Percentage of surviving infants who received t...  Total   \n",
      "2       Afghanistan  Percentage of surviving infants who received t...  Total   \n",
      "3       Afghanistan  Percentage of surviving infants who received t...  Total   \n",
      "4       Afghanistan  Percentage of live births who received hepatit...  Total   \n",
      "..              ...                                                ...    ...   \n",
      "567           Yemen  Percentage of newborns protected at birth agai...  Total   \n",
      "568           Yemen  Percentage of surviving infants who received t...  Total   \n",
      "569           Yemen  Percentage of surviving infants who received t...  Total   \n",
      "570           Yemen  Percentage of surviving infants who received t...  Total   \n",
      "571           Yemen  Percentage of surviving infants who received t...  Total   \n",
      "\n",
      "    2020 2019 2018 2015  \n",
      "0     87    -    -    -  \n",
      "1     78    -    -    -  \n",
      "2     70    -    -    -  \n",
      "3     70    -    -    -  \n",
      "4     38    -    -    -  \n",
      "..   ...  ...  ...  ...  \n",
      "567   70    -    -    -  \n",
      "568   72    -    -    -  \n",
      "569   66    -    -    -  \n",
      "570   73    -    -    -  \n",
      "571   68    -    -    -  \n",
      "\n",
      "[572 rows x 7 columns]\n"
     ]
    }
   ],
   "source": [
    "##printing the csv file as a dataframe\n",
    "print(dataset)"
   ]
  },
  {
   "cell_type": "code",
   "execution_count": 11,
   "id": "7b53d826",
   "metadata": {},
   "outputs": [
    {
     "name": "stdout",
     "output_type": "stream",
     "text": [
      "Geographic area    object\n",
      "Indicator          object\n",
      "Sex                object\n",
      "2020               object\n",
      "2019               object\n",
      "2018               object\n",
      "2015               object\n",
      "dtype: object\n"
     ]
    }
   ],
   "source": [
    "##printing the type of attributes\n",
    "print(dataset.dtypes)"
   ]
  },
  {
   "cell_type": "code",
   "execution_count": 12,
   "id": "458f3843",
   "metadata": {},
   "outputs": [
    {
     "name": "stdout",
     "output_type": "stream",
     "text": [
      "       Geographic area                                          Indicator  \\\n",
      "count              572                                                572   \n",
      "unique              45                                                 15   \n",
      "top        Philippines  Percentage of surviving infants who received t...   \n",
      "freq                15                                                 45   \n",
      "\n",
      "          Sex 2020 2019 2018 2015  \n",
      "count     572  572  535  572  572  \n",
      "unique      1   66    1    2    2  \n",
      "top     Total   99    -    -    -  \n",
      "freq      572   95  535  571  571  \n"
     ]
    }
   ],
   "source": [
    "## using the describe command to describe the dataset\n",
    "print(dataset.describe(include=\"all\"))"
   ]
  },
  {
   "cell_type": "code",
   "execution_count": 13,
   "id": "5904cf6e",
   "metadata": {},
   "outputs": [
    {
     "data": {
      "text/plain": [
       "Geographic area     0\n",
       "Indicator           0\n",
       "Sex                 0\n",
       "2020                0\n",
       "2019               37\n",
       "2018                0\n",
       "2015                0\n",
       "dtype: int64"
      ]
     },
     "execution_count": 13,
     "metadata": {},
     "output_type": "execute_result"
    }
   ],
   "source": [
    "##locating missing values\n",
    "dataset.isnull().sum()"
   ]
  },
  {
   "cell_type": "code",
   "execution_count": 14,
   "id": "6f26e7ac",
   "metadata": {},
   "outputs": [
    {
     "data": {
      "text/plain": [
       "Geographic area      0\n",
       "Indicator            0\n",
       "Sex                  0\n",
       "2020                 2\n",
       "2019               535\n",
       "2018               571\n",
       "2015               571\n",
       "dtype: int64"
      ]
     },
     "execution_count": 14,
     "metadata": {},
     "output_type": "execute_result"
    }
   ],
   "source": [
    "##locating missing values where the is a symbol \"-\"\n",
    "dataset.isin(['-']).sum()"
   ]
  },
  {
   "cell_type": "code",
   "execution_count": 15,
   "id": "cfb51f47",
   "metadata": {},
   "outputs": [
    {
     "data": {
      "text/html": [
       "<div>\n",
       "<style scoped>\n",
       "    .dataframe tbody tr th:only-of-type {\n",
       "        vertical-align: middle;\n",
       "    }\n",
       "\n",
       "    .dataframe tbody tr th {\n",
       "        vertical-align: top;\n",
       "    }\n",
       "\n",
       "    .dataframe thead th {\n",
       "        text-align: right;\n",
       "    }\n",
       "</style>\n",
       "<table border=\"1\" class=\"dataframe\">\n",
       "  <thead>\n",
       "    <tr style=\"text-align: right;\">\n",
       "      <th></th>\n",
       "      <th>Geographic area</th>\n",
       "      <th>Indicator</th>\n",
       "      <th>Sex</th>\n",
       "      <th>2020</th>\n",
       "    </tr>\n",
       "  </thead>\n",
       "  <tbody>\n",
       "    <tr>\n",
       "      <th>0</th>\n",
       "      <td>Afghanistan</td>\n",
       "      <td>Percentage of live births who received bacille...</td>\n",
       "      <td>Total</td>\n",
       "      <td>87</td>\n",
       "    </tr>\n",
       "    <tr>\n",
       "      <th>1</th>\n",
       "      <td>Afghanistan</td>\n",
       "      <td>Percentage of surviving infants who received t...</td>\n",
       "      <td>Total</td>\n",
       "      <td>78</td>\n",
       "    </tr>\n",
       "    <tr>\n",
       "      <th>2</th>\n",
       "      <td>Afghanistan</td>\n",
       "      <td>Percentage of surviving infants who received t...</td>\n",
       "      <td>Total</td>\n",
       "      <td>70</td>\n",
       "    </tr>\n",
       "    <tr>\n",
       "      <th>3</th>\n",
       "      <td>Afghanistan</td>\n",
       "      <td>Percentage of surviving infants who received t...</td>\n",
       "      <td>Total</td>\n",
       "      <td>70</td>\n",
       "    </tr>\n",
       "    <tr>\n",
       "      <th>4</th>\n",
       "      <td>Afghanistan</td>\n",
       "      <td>Percentage of live births who received hepatit...</td>\n",
       "      <td>Total</td>\n",
       "      <td>38</td>\n",
       "    </tr>\n",
       "  </tbody>\n",
       "</table>\n",
       "</div>"
      ],
      "text/plain": [
       "  Geographic area                                          Indicator    Sex  \\\n",
       "0     Afghanistan  Percentage of live births who received bacille...  Total   \n",
       "1     Afghanistan  Percentage of surviving infants who received t...  Total   \n",
       "2     Afghanistan  Percentage of surviving infants who received t...  Total   \n",
       "3     Afghanistan  Percentage of surviving infants who received t...  Total   \n",
       "4     Afghanistan  Percentage of live births who received hepatit...  Total   \n",
       "\n",
       "  2020  \n",
       "0   87  \n",
       "1   78  \n",
       "2   70  \n",
       "3   70  \n",
       "4   38  "
      ]
     },
     "execution_count": 15,
     "metadata": {},
     "output_type": "execute_result"
    }
   ],
   "source": [
    "##deleting columns for our data to have info from 2020\n",
    "dataset = dataset.drop(dataset.columns[[4, 5, 6]], axis=1) \n",
    "dataset.head()"
   ]
  },
  {
   "cell_type": "code",
   "execution_count": 28,
   "id": "5441c578",
   "metadata": {},
   "outputs": [
    {
     "data": {
      "text/plain": [
       "Geographic area     object\n",
       "Indicator           object\n",
       "Sex                 object\n",
       "2020               float64\n",
       "dtype: object"
      ]
     },
     "execution_count": 28,
     "metadata": {},
     "output_type": "execute_result"
    }
   ],
   "source": [
    "#changing the dtype of column 2020 from an object to float\n",
    "dataset['2020']=pd.to_numeric(dataset['2020'],errors='coerce')\n",
    "dataset.dtypes"
   ]
  },
  {
   "cell_type": "code",
   "execution_count": 32,
   "id": "773b9694",
   "metadata": {},
   "outputs": [
    {
     "data": {
      "text/plain": [
       "Geographic area\n",
       "Syrian Arab Republic                60.454545\n",
       "Indonesia                           63.142857\n",
       "Philippines                         65.642857\n",
       "Afghanistan                         65.769231\n",
       "Yemen                               69.307692\n",
       "Iraq                                73.357143\n",
       "Lebanon                             73.818182\n",
       "Lao People's Democratic Republic    75.538462\n",
       "India                               78.500000\n",
       "Jordan                              79.000000\n",
       "Myanmar                             79.714286\n",
       "Pakistan                            81.250000\n",
       "Timor-Leste                         82.833333\n",
       "Azerbaijan                          83.416667\n",
       "Georgia                             83.785714\n",
       "Nepal                               83.916667\n",
       "United Arab Emirates                84.928571\n",
       "Armenia                             86.142857\n",
       "Qatar                               86.538462\n",
       "Singapore                           86.538462\n",
       "Kyrgyzstan                          87.076923\n",
       "Japan                               87.181818\n",
       "Cyprus                              88.100000\n",
       "Cambodia                            90.769231\n",
       "Kazakhstan                          91.000000\n",
       "Viet Nam                            92.166667\n",
       "Thailand                            92.250000\n",
       "Bhutan                              92.428571\n",
       "Israel                              92.692308\n",
       "Sri Lanka                           92.750000\n",
       "Turkmenistan                        92.928571\n",
       "Kuwait                              93.357143\n",
       "Malaysia                            95.250000\n",
       "Saudi Arabia                        95.461538\n",
       "Uzbekistan                          95.928571\n",
       "Brunei Darussalam                   96.083333\n",
       "Mongolia                            96.083333\n",
       "Maldives                            96.384615\n",
       "Turkey                              96.538462\n",
       "Tajikistan                          97.333333\n",
       "Bangladesh                          97.500000\n",
       "Iran (Islamic Republic of)          98.250000\n",
       "China                               98.600000\n",
       "Bahrain                             98.615385\n",
       "Oman                                99.000000\n",
       "Name: 2020, dtype: float64"
      ]
     },
     "execution_count": 32,
     "metadata": {},
     "output_type": "execute_result"
    }
   ],
   "source": [
    "#grouping by countries with the mean of the infants vaccines\n",
    "meanbygroup = dataset.groupby(\"Geographic area\")[\"2020\"].mean().sort_values()\n",
    "meanbygroup"
   ]
  },
  {
   "cell_type": "code",
   "execution_count": 36,
   "id": "952b0d26",
   "metadata": {},
   "outputs": [
    {
     "data": {
      "text/plain": [
       "<AxesSubplot:ylabel='Geographic area'>"
      ]
     },
     "execution_count": 36,
     "metadata": {},
     "output_type": "execute_result"
    },
    {
     "data": {
      "image/png": "[encoded data removed]",
      "text/plain": [
       "<Figure size 720x1440 with 1 Axes>"
      ]
     },
     "metadata": {
      "needs_background": "light"
     },
     "output_type": "display_data"
    }
   ],
   "source": [
    "# creating a bar graph to better see the mean \n",
    "meanbygroup.plot(kind='barh',fontsize=8,figsize=(10,20))"
   ]
  },
  {
   "cell_type": "code",
   "execution_count": null,
   "id": "3dd68206",
   "metadata": {},
   "outputs": [],
   "source": []
  }
 ],
 "metadata": {
  "kernelspec": {
   "display_name": "Python 3 (ipykernel)",
   "language": "python",
   "name": "python3"
  },
  "language_info": {
   "codemirror_mode": {
    "name": "ipython",
    "version": 3
   },
   "file_extension": ".py",
   "mimetype": "text/x-python",
   "name": "python",
   "nbconvert_exporter": "python",
   "pygments_lexer": "ipython3",
   "version": "3.9.7"
  }
 },
 "nbformat": 4,
 "nbformat_minor": 5
}
