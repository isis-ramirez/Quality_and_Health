{
 "cells": [
  {
   "cell_type": "code",
   "execution_count": 3,
   "id": "d03c0b9c",
   "metadata": {},
   "outputs": [],
   "source": [
    "import pandas as pd\n",
    "import numpy as np\n",
    "import matplotlib.pyplot as plt\n",
    "import seaborn as sb\n",
    "import scipy.stats as stat"
   ]
  },
  {
   "cell_type": "code",
   "execution_count": 4,
   "id": "14dde37f",
   "metadata": {},
   "outputs": [
    {
     "name": "stdout",
     "output_type": "stream",
     "text": [
      "              0     1           2     3    4   5     6          7     8   \\\n",
      "0    Afghanistan  2015  Developing  65.0  263  62  0.01  71.279624  65.0   \n",
      "1    Afghanistan  2014  Developing  59.9  271  64  0.01  73.523582  62.0   \n",
      "2    Afghanistan  2013  Developing  59.9  268  66  0.01  73.219243  64.0   \n",
      "3    Afghanistan  2012  Developing  59.5  272  69  0.01  78.184215  67.0   \n",
      "4    Afghanistan  2011  Developing  59.2  275  71  0.01   7.097109  68.0   \n",
      "..           ...   ...         ...   ...  ...  ..   ...        ...   ...   \n",
      "271        Yemen  2014  Developing  65.4  228  37  0.01   0.000000  73.0   \n",
      "272        Yemen  2013  Developing  65.4  226  36  0.04   0.000000  73.0   \n",
      "273        Yemen  2012  Developing  64.7  236  36  0.04   0.000000  67.0   \n",
      "274        Yemen  2011  Developing  64.6  234  35  0.04   0.000000  69.0   \n",
      "275        Yemen  2010  Developing  64.4  233  35  0.06   0.000000  76.0   \n",
      "\n",
      "       9   ...  12    13  14   15          16          17    18    19     20  \\\n",
      "0    1154  ...   6  8.16  65  0.1  584.259210  33736494.0  17.2  17.3  0.479   \n",
      "1     492  ...  58  8.18  62  0.1  612.696514    327582.0  17.5  17.5  0.476   \n",
      "2     430  ...  62  8.13  64  0.1  631.744976  31731688.0  17.7  17.7  0.470   \n",
      "3    2787  ...  67  8.52  67  0.1  669.959000   3696958.0  17.9  18.0  0.463   \n",
      "4    3013  ...  68  7.87  68  0.1   63.537231   2978599.0  18.2  18.2  0.454   \n",
      "..    ...  ...  ..   ...  ..  ...         ...         ...   ...   ...    ...   \n",
      "271   815  ...  67  5.64  73  0.1         NaN         NaN  13.7  13.5  0.500   \n",
      "272   400  ...  67  5.78  73  0.1         NaN         NaN  13.7  13.5  0.498   \n",
      "273  2177  ...  68  5.73  67  0.1         NaN         NaN  13.7  13.6  0.494   \n",
      "274  2676  ...  69  5.40  69  0.1         NaN         NaN  13.7  13.6  0.493   \n",
      "275   510  ...  77  5.17  76  0.1         NaN         NaN  13.7  13.7  0.488   \n",
      "\n",
      "       21  \n",
      "0    10.1  \n",
      "1    10.0  \n",
      "2     9.9  \n",
      "3     9.8  \n",
      "4     9.5  \n",
      "..    ...  \n",
      "271   9.0  \n",
      "272   9.0  \n",
      "273   9.0  \n",
      "274   8.6  \n",
      "275   8.5  \n",
      "\n",
      "[276 rows x 22 columns]\n"
     ]
    }
   ],
   "source": [
    "path=\"C:/Users/PC01/Desktop/asian_countries.csv\"\n",
    "dfwh=pd.read_csv(path,skiprows=1,header=None)\n",
    "print(dfwh)"
   ]
  },
  {
   "cell_type": "code",
   "execution_count": 5,
   "id": "2d8d053f",
   "metadata": {},
   "outputs": [
    {
     "name": "stdout",
     "output_type": "stream",
     "text": [
      "0      object\n",
      "1       int64\n",
      "2      object\n",
      "3     float64\n",
      "4       int64\n",
      "5       int64\n",
      "6     float64\n",
      "7     float64\n",
      "8     float64\n",
      "9       int64\n",
      "10    float64\n",
      "11      int64\n",
      "12      int64\n",
      "13    float64\n",
      "14      int64\n",
      "15    float64\n",
      "16    float64\n",
      "17    float64\n",
      "18    float64\n",
      "19    float64\n",
      "20    float64\n",
      "21    float64\n",
      "dtype: object\n"
     ]
    }
   ],
   "source": [
    "print(dfwh.dtypes)"
   ]
  },
  {
   "cell_type": "code",
   "execution_count": 6,
   "id": "e9f54878",
   "metadata": {},
   "outputs": [
    {
     "name": "stdout",
     "output_type": "stream",
     "text": [
      "         Country  Year      Status  Life expectancy   Adult Mortality  \\\n",
      "0    Afghanistan  2015  Developing              65.0              263   \n",
      "1    Afghanistan  2014  Developing              59.9              271   \n",
      "2    Afghanistan  2013  Developing              59.9              268   \n",
      "3    Afghanistan  2012  Developing              59.5              272   \n",
      "4    Afghanistan  2011  Developing              59.2              275   \n",
      "..           ...   ...         ...               ...              ...   \n",
      "271        Yemen  2014  Developing              65.4              228   \n",
      "272        Yemen  2013  Developing              65.4              226   \n",
      "273        Yemen  2012  Developing              64.7              236   \n",
      "274        Yemen  2011  Developing              64.6              234   \n",
      "275        Yemen  2010  Developing              64.4              233   \n",
      "\n",
      "     infant deaths  Alcohol  percentage expenditure  Hepatitis B  Measles   \\\n",
      "0               62     0.01               71.279624         65.0      1154   \n",
      "1               64     0.01               73.523582         62.0       492   \n",
      "2               66     0.01               73.219243         64.0       430   \n",
      "3               69     0.01               78.184215         67.0      2787   \n",
      "4               71     0.01                7.097109         68.0      3013   \n",
      "..             ...      ...                     ...          ...       ...   \n",
      "271             37     0.01                0.000000         73.0       815   \n",
      "272             36     0.04                0.000000         73.0       400   \n",
      "273             36     0.04                0.000000         67.0      2177   \n",
      "274             35     0.04                0.000000         69.0      2676   \n",
      "275             35     0.06                0.000000         76.0       510   \n",
      "\n",
      "     ...  Polio  Total expenditure  Diphtheria    HIV/AIDS         GDP  \\\n",
      "0    ...      6               8.16           65        0.1  584.259210   \n",
      "1    ...     58               8.18           62        0.1  612.696514   \n",
      "2    ...     62               8.13           64        0.1  631.744976   \n",
      "3    ...     67               8.52           67        0.1  669.959000   \n",
      "4    ...     68               7.87           68        0.1   63.537231   \n",
      "..   ...    ...                ...          ...        ...         ...   \n",
      "271  ...     67               5.64           73        0.1         NaN   \n",
      "272  ...     67               5.78           73        0.1         NaN   \n",
      "273  ...     68               5.73           67        0.1         NaN   \n",
      "274  ...     69               5.40           69        0.1         NaN   \n",
      "275  ...     77               5.17           76        0.1         NaN   \n",
      "\n",
      "     Population   thinness  1-19 years   thinness 5-9 years  \\\n",
      "0    33736494.0                   17.2                 17.3   \n",
      "1      327582.0                   17.5                 17.5   \n",
      "2    31731688.0                   17.7                 17.7   \n",
      "3     3696958.0                   17.9                 18.0   \n",
      "4     2978599.0                   18.2                 18.2   \n",
      "..          ...                    ...                  ...   \n",
      "271         NaN                   13.7                 13.5   \n",
      "272         NaN                   13.7                 13.5   \n",
      "273         NaN                   13.7                 13.6   \n",
      "274         NaN                   13.7                 13.6   \n",
      "275         NaN                   13.7                 13.7   \n",
      "\n",
      "     Income composition of resources  Schooling  \n",
      "0                              0.479       10.1  \n",
      "1                              0.476       10.0  \n",
      "2                              0.470        9.9  \n",
      "3                              0.463        9.8  \n",
      "4                              0.454        9.5  \n",
      "..                               ...        ...  \n",
      "271                            0.500        9.0  \n",
      "272                            0.498        9.0  \n",
      "273                            0.494        9.0  \n",
      "274                            0.493        8.6  \n",
      "275                            0.488        8.5  \n",
      "\n",
      "[276 rows x 22 columns]\n"
     ]
    }
   ],
   "source": [
    "df=pd.read_csv(path)\n",
    "print(df)"
   ]
  },
  {
   "cell_type": "code",
   "execution_count": 7,
   "id": "46fd3c3c",
   "metadata": {},
   "outputs": [
    {
     "name": "stdout",
     "output_type": "stream",
     "text": [
      "                1           3           4            5           6   \\\n",
      "count   276.000000  276.000000  276.000000   276.000000  232.000000   \n",
      "mean   2012.500000   72.360507  125.057971    49.713768    2.074871   \n",
      "std       1.710927    5.271943   72.258200   161.868952    2.743139   \n",
      "min    2010.000000   58.800000    6.000000     0.000000    0.010000   \n",
      "25%    2011.000000   68.250000   68.750000     1.000000    0.010000   \n",
      "50%    2012.500000   73.900000  127.000000     6.500000    0.770000   \n",
      "75%    2014.000000   75.800000  183.000000    22.000000    2.907500   \n",
      "max    2015.000000   85.000000  294.000000  1200.000000   11.320000   \n",
      "\n",
      "                7           8             9           10           11  \\\n",
      "count   276.000000  270.000000    276.000000  276.000000   276.000000   \n",
      "mean    516.505442   88.737037   2969.862319   37.749638    62.427536   \n",
      "std    1231.002196   16.576547  10127.377331   19.896672   208.526062   \n",
      "min       0.000000    4.000000      0.000000    2.100000     0.000000   \n",
      "25%       0.000000   85.250000      4.000000   19.750000     1.000000   \n",
      "50%      67.687008   96.000000    112.500000   37.650000     7.500000   \n",
      "75%     276.595890   98.000000   1038.250000   56.050000    25.250000   \n",
      "max    9498.729062   99.000000  90387.000000   71.400000  1600.000000   \n",
      "\n",
      "               12          13          14          15            16  \\\n",
      "count  276.000000  231.000000  276.000000  276.000000    240.000000   \n",
      "mean    87.728261    4.815887   89.641304    0.137319   9319.472277   \n",
      "std     20.560918    2.128190   15.050882    0.093140  16037.186787   \n",
      "min      5.000000    0.760000    6.000000    0.100000     14.142268   \n",
      "25%     86.000000    3.240000   86.750000    0.100000    865.994668   \n",
      "50%     96.000000    4.480000   96.000000    0.100000   2975.418670   \n",
      "75%     99.000000    6.400000   98.000000    0.100000   7691.703225   \n",
      "max     99.000000   13.730000   99.000000    0.600000  88564.822980   \n",
      "\n",
      "                 17          18          19          20          21  \n",
      "count  1.980000e+02  276.000000  276.000000  276.000000  276.000000  \n",
      "mean   2.841118e+07    7.248551    7.436957    0.699072   12.554710  \n",
      "std    1.034014e+08    5.973252    5.967312    0.128333    1.881493  \n",
      "min    4.100000e+01    0.900000    1.000000    0.000000    7.500000  \n",
      "25%    1.357058e+05    2.675000    2.900000    0.614500   11.500000  \n",
      "50%    1.674080e+06    5.100000    5.100000    0.721500   12.800000  \n",
      "75%    1.471712e+07   11.000000   11.125000    0.790500   13.800000  \n",
      "max    1.293859e+09   27.000000   27.800000    0.924000   16.100000  \n",
      "                 0            1           2           3           4   \\\n",
      "count           276   276.000000         276  276.000000  276.000000   \n",
      "unique           46          NaN           2         NaN         NaN   \n",
      "top     Afghanistan          NaN  Developing         NaN         NaN   \n",
      "freq              6          NaN         258         NaN         NaN   \n",
      "mean            NaN  2012.500000         NaN   72.360507  125.057971   \n",
      "std             NaN     1.710927         NaN    5.271943   72.258200   \n",
      "min             NaN  2010.000000         NaN   58.800000    6.000000   \n",
      "25%             NaN  2011.000000         NaN   68.250000   68.750000   \n",
      "50%             NaN  2012.500000         NaN   73.900000  127.000000   \n",
      "75%             NaN  2014.000000         NaN   75.800000  183.000000   \n",
      "max             NaN  2015.000000         NaN   85.000000  294.000000   \n",
      "\n",
      "                 5           6            7           8             9   ...  \\\n",
      "count    276.000000  232.000000   276.000000  270.000000    276.000000  ...   \n",
      "unique          NaN         NaN          NaN         NaN           NaN  ...   \n",
      "top             NaN         NaN          NaN         NaN           NaN  ...   \n",
      "freq            NaN         NaN          NaN         NaN           NaN  ...   \n",
      "mean      49.713768    2.074871   516.505442   88.737037   2969.862319  ...   \n",
      "std      161.868952    2.743139  1231.002196   16.576547  10127.377331  ...   \n",
      "min        0.000000    0.010000     0.000000    4.000000      0.000000  ...   \n",
      "25%        1.000000    0.010000     0.000000   85.250000      4.000000  ...   \n",
      "50%        6.500000    0.770000    67.687008   96.000000    112.500000  ...   \n",
      "75%       22.000000    2.907500   276.595890   98.000000   1038.250000  ...   \n",
      "max     1200.000000   11.320000  9498.729062   99.000000  90387.000000  ...   \n",
      "\n",
      "                12          13          14          15            16  \\\n",
      "count   276.000000  231.000000  276.000000  276.000000    240.000000   \n",
      "unique         NaN         NaN         NaN         NaN           NaN   \n",
      "top            NaN         NaN         NaN         NaN           NaN   \n",
      "freq           NaN         NaN         NaN         NaN           NaN   \n",
      "mean     87.728261    4.815887   89.641304    0.137319   9319.472277   \n",
      "std      20.560918    2.128190   15.050882    0.093140  16037.186787   \n",
      "min       5.000000    0.760000    6.000000    0.100000     14.142268   \n",
      "25%      86.000000    3.240000   86.750000    0.100000    865.994668   \n",
      "50%      96.000000    4.480000   96.000000    0.100000   2975.418670   \n",
      "75%      99.000000    6.400000   98.000000    0.100000   7691.703225   \n",
      "max      99.000000   13.730000   99.000000    0.600000  88564.822980   \n",
      "\n",
      "                  17          18          19          20          21  \n",
      "count   1.980000e+02  276.000000  276.000000  276.000000  276.000000  \n",
      "unique           NaN         NaN         NaN         NaN         NaN  \n",
      "top              NaN         NaN         NaN         NaN         NaN  \n",
      "freq             NaN         NaN         NaN         NaN         NaN  \n",
      "mean    2.841118e+07    7.248551    7.436957    0.699072   12.554710  \n",
      "std     1.034014e+08    5.973252    5.967312    0.128333    1.881493  \n",
      "min     4.100000e+01    0.900000    1.000000    0.000000    7.500000  \n",
      "25%     1.357058e+05    2.675000    2.900000    0.614500   11.500000  \n",
      "50%     1.674080e+06    5.100000    5.100000    0.721500   12.800000  \n",
      "75%     1.471712e+07   11.000000   11.125000    0.790500   13.800000  \n",
      "max     1.293859e+09   27.000000   27.800000    0.924000   16.100000  \n",
      "\n",
      "[11 rows x 22 columns]\n"
     ]
    }
   ],
   "source": [
    "print(dfwh.describe())\n",
    "print(dfwh.describe(include=\"all\"))"
   ]
  },
  {
   "cell_type": "code",
   "execution_count": 8,
   "id": "0ad677cd",
   "metadata": {},
   "outputs": [
    {
     "data": {
      "text/plain": [
       "Country                             0\n",
       "Year                                0\n",
       "Status                              0\n",
       "Life expectancy                     0\n",
       "Adult Mortality                     0\n",
       "infant deaths                       0\n",
       "Alcohol                            44\n",
       "percentage expenditure              0\n",
       "Hepatitis B                         6\n",
       "Measles                             0\n",
       " BMI                                0\n",
       "under-five deaths                   0\n",
       "Polio                               0\n",
       "Total expenditure                  45\n",
       "Diphtheria                          0\n",
       " HIV/AIDS                           0\n",
       "GDP                                36\n",
       "Population                         78\n",
       " thinness  1-19 years               0\n",
       " thinness 5-9 years                 0\n",
       "Income composition of resources     0\n",
       "Schooling                           0\n",
       "dtype: int64"
      ]
     },
     "execution_count": 8,
     "metadata": {},
     "output_type": "execute_result"
    }
   ],
   "source": [
    "df.isnull().sum()"
   ]
  },
  {
   "cell_type": "code",
   "execution_count": 9,
   "id": "31e07de0",
   "metadata": {},
   "outputs": [
    {
     "data": {
      "text/plain": [
       "<AxesSubplot:>"
      ]
     },
     "execution_count": 9,
     "metadata": {},
     "output_type": "execute_result"
    },
    {
     "data": {
      "image/png": "[encoded data removed]",
      "text/plain": [
       "<Figure size 432x288 with 1 Axes>"
      ]
     },
     "metadata": {
      "needs_background": "light"
     },
     "output_type": "display_data"
    }
   ],
   "source": [
    "df.boxplot(column=['Adult Mortality'])"
   ]
  },
  {
   "cell_type": "code",
   "execution_count": 10,
   "id": "7eb30221",
   "metadata": {},
   "outputs": [
    {
     "data": {
      "text/plain": [
       "0      0\n",
       "1      0\n",
       "2      0\n",
       "3      0\n",
       "4      0\n",
       "      ..\n",
       "271    0\n",
       "272    0\n",
       "273    0\n",
       "274    0\n",
       "275    0\n",
       "Name: Status, Length: 276, dtype: int64"
      ]
     },
     "execution_count": 10,
     "metadata": {},
     "output_type": "execute_result"
    }
   ],
   "source": [
    "df['Status'] = df ['Status'].replace({'Developing':0,'Developed':1 })\n",
    "df['Status']"
   ]
  },
  {
   "cell_type": "code",
   "execution_count": 11,
   "id": "a747da28",
   "metadata": {},
   "outputs": [
    {
     "data": {
      "text/plain": [
       "0    258\n",
       "1     18\n",
       "Name: Status, dtype: int64"
      ]
     },
     "execution_count": 11,
     "metadata": {},
     "output_type": "execute_result"
    }
   ],
   "source": [
    "df[\"Status\"].value_counts()"
   ]
  },
  {
   "cell_type": "code",
   "execution_count": 12,
   "id": "18fc4813",
   "metadata": {},
   "outputs": [
    {
     "data": {
      "image/png": "[encoded data removed]",
      "text/plain": [
       "<Figure size 432x288 with 1 Axes>"
      ]
     },
     "metadata": {
      "needs_background": "light"
     },
     "output_type": "display_data"
    }
   ],
   "source": [
    "ax1 = df.plot.scatter(x='Alcohol', y='Adult Mortality', c='DarkBlue')"
   ]
  },
  {
   "cell_type": "code",
   "execution_count": 13,
   "id": "dd1cc25f",
   "metadata": {},
   "outputs": [
    {
     "data": {
      "image/png": "[encoded data removed]",
      "text/plain": [
       "<Figure size 432x288 with 1 Axes>"
      ]
     },
     "metadata": {
      "needs_background": "light"
     },
     "output_type": "display_data"
    }
   ],
   "source": [
    "ax2 = df.plot.scatter(x='GDP', y='Population', c='DarkBlue')"
   ]
  },
  {
   "cell_type": "code",
   "execution_count": 14,
   "id": "eab8dc51",
   "metadata": {},
   "outputs": [
    {
     "data": {
      "image/png": "[encoded data removed]",
      "text/plain": [
       "<Figure size 432x288 with 1 Axes>"
      ]
     },
     "metadata": {
      "needs_background": "light"
     },
     "output_type": "display_data"
    }
   ],
   "source": [
    "ax3 = df.plot.scatter(x='Income composition of resources', y='GDP', c='DarkBlue')"
   ]
  },
  {
   "cell_type": "code",
   "execution_count": null,
   "id": "4bb0a33a",
   "metadata": {},
   "outputs": [],
   "source": []
  }
 ],
 "metadata": {
  "kernelspec": {
   "display_name": "Python 3 (ipykernel)",
   "language": "python",
   "name": "python3"
  },
  "language_info": {
   "codemirror_mode": {
    "name": "ipython",
    "version": 3
   },
   "file_extension": ".py",
   "mimetype": "text/x-python",
   "name": "python",
   "nbconvert_exporter": "python",
   "pygments_lexer": "ipython3",
   "version": "3.9.7"
  }
 },
 "nbformat": 4,
 "nbformat_minor": 5
}
