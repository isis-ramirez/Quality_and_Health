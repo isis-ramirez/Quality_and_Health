{
 "cells": [
  {
   "cell_type": "code",
   "execution_count": 1,
   "id": "e67a3c30",
   "metadata": {},
   "outputs": [],
   "source": [
    "import pandas as pd"
   ]
  },
  {
   "cell_type": "code",
   "execution_count": 2,
   "id": "a91c82be",
   "metadata": {},
   "outputs": [
    {
     "data": {
      "text/html": [
       "<div>\n",
       "<style scoped>\n",
       "    .dataframe tbody tr th:only-of-type {\n",
       "        vertical-align: middle;\n",
       "    }\n",
       "\n",
       "    .dataframe tbody tr th {\n",
       "        vertical-align: top;\n",
       "    }\n",
       "\n",
       "    .dataframe thead th {\n",
       "        text-align: right;\n",
       "    }\n",
       "</style>\n",
       "<table border=\"1\" class=\"dataframe\">\n",
       "  <thead>\n",
       "    <tr style=\"text-align: right;\">\n",
       "      <th></th>\n",
       "      <th>Geographic area</th>\n",
       "      <th>Indicator</th>\n",
       "      <th>Sex</th>\n",
       "      <th>2020</th>\n",
       "      <th>2019</th>\n",
       "      <th>2018</th>\n",
       "      <th>2015</th>\n",
       "    </tr>\n",
       "  </thead>\n",
       "  <tbody>\n",
       "    <tr>\n",
       "      <th>0</th>\n",
       "      <td>Afghanistan</td>\n",
       "      <td>Percentage of live births who received bacille...</td>\n",
       "      <td>Total</td>\n",
       "      <td>87</td>\n",
       "      <td>-</td>\n",
       "      <td>-</td>\n",
       "      <td>-</td>\n",
       "    </tr>\n",
       "    <tr>\n",
       "      <th>1</th>\n",
       "      <td>Afghanistan</td>\n",
       "      <td>Percentage of surviving infants who received t...</td>\n",
       "      <td>Total</td>\n",
       "      <td>78</td>\n",
       "      <td>-</td>\n",
       "      <td>-</td>\n",
       "      <td>-</td>\n",
       "    </tr>\n",
       "    <tr>\n",
       "      <th>2</th>\n",
       "      <td>Afghanistan</td>\n",
       "      <td>Percentage of surviving infants who received t...</td>\n",
       "      <td>Total</td>\n",
       "      <td>70</td>\n",
       "      <td>-</td>\n",
       "      <td>-</td>\n",
       "      <td>-</td>\n",
       "    </tr>\n",
       "    <tr>\n",
       "      <th>3</th>\n",
       "      <td>Afghanistan</td>\n",
       "      <td>Percentage of surviving infants who received t...</td>\n",
       "      <td>Total</td>\n",
       "      <td>70</td>\n",
       "      <td>-</td>\n",
       "      <td>-</td>\n",
       "      <td>-</td>\n",
       "    </tr>\n",
       "    <tr>\n",
       "      <th>4</th>\n",
       "      <td>Afghanistan</td>\n",
       "      <td>Percentage of live births who received hepatit...</td>\n",
       "      <td>Total</td>\n",
       "      <td>38</td>\n",
       "      <td>-</td>\n",
       "      <td>-</td>\n",
       "      <td>-</td>\n",
       "    </tr>\n",
       "  </tbody>\n",
       "</table>\n",
       "</div>"
      ],
      "text/plain": [
       "  Geographic area                                          Indicator    Sex  \\\n",
       "0     Afghanistan  Percentage of live births who received bacille...  Total   \n",
       "1     Afghanistan  Percentage of surviving infants who received t...  Total   \n",
       "2     Afghanistan  Percentage of surviving infants who received t...  Total   \n",
       "3     Afghanistan  Percentage of surviving infants who received t...  Total   \n",
       "4     Afghanistan  Percentage of live births who received hepatit...  Total   \n",
       "\n",
       "  2020 2019 2018 2015  \n",
       "0   87    -    -    -  \n",
       "1   78    -    -    -  \n",
       "2   70    -    -    -  \n",
       "3   70    -    -    -  \n",
       "4   38    -    -    -  "
      ]
     },
     "execution_count": 2,
     "metadata": {},
     "output_type": "execute_result"
    }
   ],
   "source": [
    "##locating and reading the csv file\n",
    "path=\"C:/Users/isis1/OneDrive/Documents/Asia_Vaccines.csv\"\n",
    "dataset=pd.read_csv(path)\n",
    "dataset.head()"
   ]
  },
  {
   "cell_type": "code",
   "execution_count": 3,
   "id": "f4a37b80",
   "metadata": {},
   "outputs": [
    {
     "name": "stdout",
     "output_type": "stream",
     "text": [
      "    Geographic area                                          Indicator    Sex  \\\n",
      "0       Afghanistan  Percentage of live births who received bacille...  Total   \n",
      "1       Afghanistan  Percentage of surviving infants who received t...  Total   \n",
      "2       Afghanistan  Percentage of surviving infants who received t...  Total   \n",
      "3       Afghanistan  Percentage of surviving infants who received t...  Total   \n",
      "4       Afghanistan  Percentage of live births who received hepatit...  Total   \n",
      "..              ...                                                ...    ...   \n",
      "579           Yemen  Percentage of newborns protected at birth agai...  Total   \n",
      "580           Yemen  Percentage of surviving infants who received t...  Total   \n",
      "581           Yemen  Percentage of surviving infants who received t...  Total   \n",
      "582           Yemen  Percentage of surviving infants who received t...  Total   \n",
      "583           Yemen  Percentage of surviving infants who received t...  Total   \n",
      "\n",
      "    2020 2019 2018 2015  \n",
      "0     87    -    -    -  \n",
      "1     78    -    -    -  \n",
      "2     70    -    -    -  \n",
      "3     70    -    -    -  \n",
      "4     38    -    -    -  \n",
      "..   ...  ...  ...  ...  \n",
      "579   70    -    -    -  \n",
      "580   72    -    -    -  \n",
      "581   66    -    -    -  \n",
      "582   73    -    -    -  \n",
      "583   68    -    -    -  \n",
      "\n",
      "[584 rows x 7 columns]\n"
     ]
    }
   ],
   "source": [
    "##printing the csv file as a dataframe\n",
    "print(dataset)"
   ]
  },
  {
   "cell_type": "code",
   "execution_count": 5,
   "id": "7b53d826",
   "metadata": {},
   "outputs": [
    {
     "name": "stdout",
     "output_type": "stream",
     "text": [
      "Geographic area    object\n",
      "Indicator          object\n",
      "Sex                object\n",
      "2020               object\n",
      "2019               object\n",
      "2018               object\n",
      "2015               object\n",
      "dtype: object\n"
     ]
    }
   ],
   "source": [
    "##printing the type of attributes\n",
    "print(dataset.dtypes)"
   ]
  },
  {
   "cell_type": "code",
   "execution_count": 6,
   "id": "458f3843",
   "metadata": {},
   "outputs": [
    {
     "name": "stdout",
     "output_type": "stream",
     "text": [
      "       Geographic area                                          Indicator  \\\n",
      "count              584                                                584   \n",
      "unique              46                                                 15   \n",
      "top        Philippines  Percentage of surviving infants who received t...   \n",
      "freq                15                                                 46   \n",
      "\n",
      "          Sex 2020 2019 2018 2015  \n",
      "count     584  584  584  584  584  \n",
      "unique      1   65   18    2    2  \n",
      "top     Total   99    -    -    -  \n",
      "freq      584  105  547  583  583  \n"
     ]
    }
   ],
   "source": [
    "## using the describe command to describe the dataset\n",
    "print(dataset.describe(include=\"all\"))"
   ]
  },
  {
   "cell_type": "code",
   "execution_count": 8,
   "id": "5904cf6e",
   "metadata": {},
   "outputs": [
    {
     "data": {
      "text/plain": [
       "Geographic area    0\n",
       "Indicator          0\n",
       "Sex                0\n",
       "2020               0\n",
       "2019               0\n",
       "2018               0\n",
       "2015               0\n",
       "dtype: int64"
      ]
     },
     "execution_count": 8,
     "metadata": {},
     "output_type": "execute_result"
    }
   ],
   "source": [
    "##locating missing values\n",
    "dataset.isnull().sum()"
   ]
  },
  {
   "cell_type": "code",
   "execution_count": 9,
   "id": "6f26e7ac",
   "metadata": {},
   "outputs": [
    {
     "data": {
      "text/plain": [
       "Geographic area      0\n",
       "Indicator            0\n",
       "Sex                  0\n",
       "2020                39\n",
       "2019               547\n",
       "2018               583\n",
       "2015               583\n",
       "dtype: int64"
      ]
     },
     "execution_count": 9,
     "metadata": {},
     "output_type": "execute_result"
    }
   ],
   "source": [
    "##locating missing values where the is a symbol \"-\"\n",
    "dataset.isin(['-']).sum()"
   ]
  },
  {
   "cell_type": "code",
   "execution_count": 11,
   "id": "cfb51f47",
   "metadata": {},
   "outputs": [
    {
     "data": {
      "text/html": [
       "<div>\n",
       "<style scoped>\n",
       "    .dataframe tbody tr th:only-of-type {\n",
       "        vertical-align: middle;\n",
       "    }\n",
       "\n",
       "    .dataframe tbody tr th {\n",
       "        vertical-align: top;\n",
       "    }\n",
       "\n",
       "    .dataframe thead th {\n",
       "        text-align: right;\n",
       "    }\n",
       "</style>\n",
       "<table border=\"1\" class=\"dataframe\">\n",
       "  <thead>\n",
       "    <tr style=\"text-align: right;\">\n",
       "      <th></th>\n",
       "      <th>Geographic area</th>\n",
       "      <th>Indicator</th>\n",
       "      <th>Sex</th>\n",
       "      <th>2020</th>\n",
       "    </tr>\n",
       "  </thead>\n",
       "  <tbody>\n",
       "    <tr>\n",
       "      <th>0</th>\n",
       "      <td>Afghanistan</td>\n",
       "      <td>Percentage of live births who received bacille...</td>\n",
       "      <td>Total</td>\n",
       "      <td>87</td>\n",
       "    </tr>\n",
       "    <tr>\n",
       "      <th>1</th>\n",
       "      <td>Afghanistan</td>\n",
       "      <td>Percentage of surviving infants who received t...</td>\n",
       "      <td>Total</td>\n",
       "      <td>78</td>\n",
       "    </tr>\n",
       "    <tr>\n",
       "      <th>2</th>\n",
       "      <td>Afghanistan</td>\n",
       "      <td>Percentage of surviving infants who received t...</td>\n",
       "      <td>Total</td>\n",
       "      <td>70</td>\n",
       "    </tr>\n",
       "    <tr>\n",
       "      <th>3</th>\n",
       "      <td>Afghanistan</td>\n",
       "      <td>Percentage of surviving infants who received t...</td>\n",
       "      <td>Total</td>\n",
       "      <td>70</td>\n",
       "    </tr>\n",
       "    <tr>\n",
       "      <th>4</th>\n",
       "      <td>Afghanistan</td>\n",
       "      <td>Percentage of live births who received hepatit...</td>\n",
       "      <td>Total</td>\n",
       "      <td>38</td>\n",
       "    </tr>\n",
       "  </tbody>\n",
       "</table>\n",
       "</div>"
      ],
      "text/plain": [
       "  Geographic area                                          Indicator    Sex  \\\n",
       "0     Afghanistan  Percentage of live births who received bacille...  Total   \n",
       "1     Afghanistan  Percentage of surviving infants who received t...  Total   \n",
       "2     Afghanistan  Percentage of surviving infants who received t...  Total   \n",
       "3     Afghanistan  Percentage of surviving infants who received t...  Total   \n",
       "4     Afghanistan  Percentage of live births who received hepatit...  Total   \n",
       "\n",
       "  2020  \n",
       "0   87  \n",
       "1   78  \n",
       "2   70  \n",
       "3   70  \n",
       "4   38  "
      ]
     },
     "execution_count": 11,
     "metadata": {},
     "output_type": "execute_result"
    }
   ],
   "source": [
    "##deleting columns for our data to have info from 2020\n",
    "dataset = dataset.drop(dataset.columns[[4, 5, 6]], axis=1) \n",
    "dataset.head()"
   ]
  },
  {
   "cell_type": "code",
   "execution_count": null,
   "id": "5441c578",
   "metadata": {},
   "outputs": [],
   "source": []
  }
 ],
 "metadata": {
  "kernelspec": {
   "display_name": "Python 3 (ipykernel)",
   "language": "python",
   "name": "python3"
  },
  "language_info": {
   "codemirror_mode": {
    "name": "ipython",
    "version": 3
   },
   "file_extension": ".py",
   "mimetype": "text/x-python",
   "name": "python",
   "nbconvert_exporter": "python",
   "pygments_lexer": "ipython3",
   "version": "3.9.7"
  }
 },
 "nbformat": 4,
 "nbformat_minor": 5
}
